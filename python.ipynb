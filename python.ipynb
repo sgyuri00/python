{
 "cells": [
  {
   "cell_type": "code",
   "execution_count": 5,
   "metadata": {},
   "outputs": [],
   "source": [
    "# Importálások\n",
    "import pandas as pd\n",
    "import numpy as np\n",
    "import matplotlib.pyplot as plt\n",
    "from sklearn.model_selection import train_test_split\n",
    "from sklearn.metrics import *\n",
    "from sklearn.neighbors import KNeighborsClassifier\n",
    "from sklearn.linear_model import LogisticRegression\n",
    "from sklearn.ensemble import RandomForestClassifier, VotingClassifier\n",
    "from sklearn.model_selection import GridSearchCV, cross_val_score\n",
    "import seaborn as sns"
   ]
  },
  {
   "cell_type": "code",
   "execution_count": 6,
   "metadata": {},
   "outputs": [],
   "source": [
    "# Adat beolvasása\n",
    "file = pd.read_csv('adatszet_A_csoport.csv')\n",
    "\n",
    "# Felbontás a feature-ökre és labelekre\n",
    "# Lehet ezt más módszerrel is, mint loc vagy egyebek tbf\n",
    "X = file.iloc[:, :10]\n",
    "Y = file.iloc[:, 10]"
   ]
  },
  {
   "cell_type": "code",
   "execution_count": 7,
   "metadata": {},
   "outputs": [
    {
     "name": "stdout",
     "output_type": "stream",
     "text": [
      "   # feature_0  feature_1  feature_2  feature_3  feature_4  feature_5  \\\n",
      "0     0.957386   3.443675   0.999304  -0.343926  -4.635435   0.766966   \n",
      "1    -0.109939  -0.865697  -0.464845  -2.886531  -0.833199   1.488993   \n",
      "2     2.289896   0.075200  -1.014486  -2.073310   0.082538   1.277590   \n",
      "3     0.661149   0.752222  -1.267845  -0.735257  -1.085805  -0.726873   \n",
      "4    -1.494475  -0.137208  -2.452925   0.574565  -1.217830   2.450139   \n",
      "\n",
      "   feature_6  feature_7  feature_8  feature_9  \n",
      "0   1.120216   1.140696   0.650563   0.324875  \n",
      "1  -0.571916   1.900266  -1.094809   0.488987  \n",
      "2  -1.296597   0.754540  -3.187318   2.602639  \n",
      "3  -1.633767   1.364671  -1.689582  -0.441893  \n",
      "4   6.600742  -3.217090   1.231812  -0.330446  \n",
      "0    0.0\n",
      "1    3.0\n",
      "2    3.0\n",
      "3    0.0\n",
      "4    2.0\n",
      "Name: label, dtype: float64\n"
     ]
    }
   ],
   "source": [
    "# Teszt, hogy jó-e\n",
    "print(X.head())\n",
    "print(Y.head())"
   ]
  },
  {
   "cell_type": "code",
   "execution_count": 8,
   "metadata": {},
   "outputs": [
    {
     "data": {
      "text/plain": [
       "dtype('int64')"
      ]
     },
     "execution_count": 8,
     "metadata": {},
     "output_type": "execute_result"
    }
   ],
   "source": [
    "# Mivel a Y dataframe-nek float típusa van ezért átalakítom int-re, hogy ne legyen rinya ha lenne.\n",
    "Y = Y.apply(np.int64)\n",
    "Y.dtypes"
   ]
  },
  {
   "cell_type": "code",
   "execution_count": 9,
   "metadata": {},
   "outputs": [],
   "source": [
    "# Adathalmaz felosztása 80-20-ra\n",
    "X_train, X_test, Y_train, Y_test = train_test_split(X, Y, test_size=0.2, random_state=69)"
   ]
  },
  {
   "cell_type": "code",
   "execution_count": 61,
   "metadata": {},
   "outputs": [
    {
     "name": "stdout",
     "output_type": "stream",
     "text": [
      "accuracy_score: 0.9\n",
      "K. szomszédok: [0.905, 0.9, 0.905, 0.9, 0.905, 0.91, 0.9, 0.885, 0.9, 0.89, 0.88, 0.875, 0.885, 0.88, 0.875, 0.87, 0.86, 0.865, 0.86, 0.855, 0.86, 0.865, 0.86, 0.855, 0.865]\n"
     ]
    },
    {
     "data": {
      "image/png": "[encoded data removed]",
      "text/plain": [
       "<Figure size 432x288 with 1 Axes>"
      ]
     },
     "metadata": {
      "needs_background": "light"
     },
     "output_type": "display_data"
    }
   ],
   "source": [
    "# KNN feltanítása\n",
    "knn = KNeighborsClassifier(n_neighbors=7)\n",
    "knn.fit(X_train, Y_train)\n",
    "\n",
    "# KNN tesztelése\n",
    "Y_pred = knn.predict(X_test)\n",
    "print(\"accuracy_score:\",accuracy_score(Y_test, Y_pred))\n",
    "\n",
    "# Lefuttatjuk a KNN modellt 1-től 26 szomszédig,\n",
    "# hogy megtaláljuk a legjobb szomszédszámot.\n",
    "scores = []\n",
    "\n",
    "for i in range(1,26):\n",
    "    knn = KNeighborsClassifier(n_neighbors=i)\n",
    "    knn.fit(X_train, Y_train)\n",
    "    Y_pred = knn.predict(X_test)\n",
    "    scores.append(accuracy_score(Y_test, Y_pred))\n",
    "\n",
    "print('K. szomszédok:',scores)\n",
    "\n",
    "# Eredmény plottolása. Ez azért kell, hogy a legjobb szomszédszámot megkeressük\n",
    "plt.plot(range(1,26), scores)\n",
    "plt.xlabel('Accuracy')\n",
    "plt.ylabel('K amounts')\n",
    "plt.show()"
   ]
  },
  {
   "cell_type": "code",
   "execution_count": 31,
   "metadata": {},
   "outputs": [
    {
     "name": "stdout",
     "output_type": "stream",
     "text": [
      "Fitting 5 folds for each of 40 candidates, totalling 200 fits\n",
      "Legjobb paraméter: {'C': 10, 'solver': 'lbfgs', 'tol': 0.01}\n",
      "Predictek: [1 1 2 3 3 1 1 2 1 1 0 0 0 3 2 2 0 1 1 2 1 3 2 1 2 2 3 3 3 3 2 2 3 0 3 1 2\n",
      " 0 0 0 2 2 0 3 0 2 2 2 0 2 0 1 1 0 1 1 3 0 0 3 0 1 2 0 1 1 1 3 0 2 2 0 2 0\n",
      " 3 2 1 2 0 2 1 1 1 0 2 2 1 3 0 0 3 2 2 0 3 1 2 3 2 2 0 0 2 1 0 1 3 0 0 2 2\n",
      " 1 3 2 2 0 2 3 0 0 1 2 1 1 2 1 2 2 0 0 1 1 0 0 2 1 1 0 2 0 3 1 3 1 3 2 1 1\n",
      " 0 0 0 0 0 0 0 3 3 1 3 3 3 3 2 2 2 1 3 3 2 2 0 2 3 0 3 1 3 3 3 0 3 2 3 1 3\n",
      " 3 2 3 3 3 0 0 3 3 2 2 0 1 0 0]\n",
      "Pontosság accuracy_score 0.81\n"
     ]
    }
   ],
   "source": [
    "# LOGISZTIKUS REGRESSZIÓ TANÍTÁS ÉS HIPERPARAMÉTER OPTIMALIZÁLÁS\n",
    "\n",
    "# Kernel: Átalakítja az adathalmazt, hogy tudjon vonalat tenni, \n",
    "        # amivel majd szétválaszthatjuk az adathalmazt több részre.\n",
    "        # A lineáris kernel van a képeken, pl a margós képen      \n",
    "# Reguralization: Ezzel határozzuk meg, hogy mennyire durván büntessünk grr~\n",
    "# Gamma: Alacsonyabb gamma érték inkább alultanít, magasabb meg túltanit. Arany középút\n",
    "# Hiperparaméterek meghatározása. Több adattal dolgozunk, hogy majd a legjobb kombót megkapjuk\n",
    "param_grid = {'C': [0.1, 1, 10, 100, 1000],\n",
    "'tol': [0.01, 0.001, 0.0001, 0.00001],\n",
    "'solver': ['lbfgs', 'newton-cg']}\n",
    "# GridSearchCV a param_grid-ben a kernel, gamma, C sorok összes kombinációját lefuttatja\n",
    "# verbose: 1 -> számítási időt kiírja, 2 -> idő + pontosság, 3 -> idő + pontosság + paraméter indexek stb.\n",
    "grid = GridSearchCV(LogisticRegression(), param_grid, verbose=1)\n",
    "grid.fit(X_train, Y_train)\n",
    "# Legjobb paraméter kiírása\n",
    "print('Legjobb paraméter:',grid.best_params_)\n",
    "\n",
    "# Legjobb paraméterrel dolgozás\n",
    "grid_predictions = LogisticRegression(solver='lbfgs', C=10, tol=0.01)\n",
    "grid_predictions.fit(X_train, Y_train)\n",
    "Y_pred = grid_predictions.predict(X_test)\n",
    "print('Predictek:', Y_pred)\n",
    "\n",
    "# Különböző pontosságok\n",
    "print('Pontosság accuracy_score', accuracy_score(Y_test, Y_pred))"
   ]
  },
  {
   "cell_type": "code",
   "execution_count": 37,
   "metadata": {},
   "outputs": [
    {
     "name": "stdout",
     "output_type": "stream",
     "text": [
      "Fitting 5 folds for each of 10 candidates, totalling 50 fits\n",
      "Legjobb paraméter: {'criterion': 'entropy', 'n_estimators': 100}\n",
      "Predictek: [1 0 2 3 3 1 1 2 1 1 0 0 0 0 2 2 0 1 0 2 1 3 2 1 2 2 0 3 3 0 2 2 0 0 2 1 2\n",
      " 0 0 0 2 2 2 3 1 2 2 2 0 2 1 1 0 2 1 1 3 1 0 3 0 1 2 1 0 1 2 3 3 2 2 0 2 0\n",
      " 3 2 1 2 0 2 0 0 1 3 2 2 1 0 0 0 3 2 2 0 3 0 2 3 2 2 0 0 2 1 1 1 3 0 0 2 2\n",
      " 1 0 3 2 1 2 3 0 1 1 2 1 1 2 1 2 2 1 0 1 1 0 1 2 1 1 0 0 0 3 1 3 1 3 2 1 1\n",
      " 0 0 0 0 0 0 0 3 3 1 3 3 3 3 2 2 2 1 3 1 2 2 0 2 3 0 3 1 0 3 3 2 3 2 3 1 3\n",
      " 3 2 3 3 3 0 0 3 3 2 2 3 1 0 0]\n",
      "Pontosság accuracy_score 0.915\n"
     ]
    }
   ],
   "source": [
    "# RANDOM FOREST TANÍTÁS ÉS HIPERPARAMÉTER OPTIMALIZÁLÁS\n",
    "\n",
    "# Kernel: Átalakítja az adathalmazt, hogy tudjon vonalat tenni, \n",
    "        # amivel majd szétválaszthatjuk az adathalmazt több részre.\n",
    "        # A lineáris kernel van a képeken, pl a margós képen      \n",
    "# Reguralization: Ezzel határozzuk meg, hogy mennyire durván büntessünk grr~\n",
    "# Gamma: Alacsonyabb gamma érték inkább alultanít, magasabb meg túltanit. Arany középút\n",
    "# Hiperparaméterek meghatározása. Több adattal dolgozunk, hogy majd a legjobb kombót megkapjuk\n",
    "param_grid = {'n_estimators': [25, 50, 100, 150, 200],\n",
    "'criterion': ['gini', 'entropy']}\n",
    "# GridSearchCV a param_grid-ben a kernel, gamma, C sorok összes kombinációját lefuttatja\n",
    "# verbose: 1 -> számítási időt kiírja, 2 -> idő + pontosság, 3 -> idő + pontosság + paraméter indexek stb.\n",
    "grid = GridSearchCV(RandomForestClassifier(), param_grid, verbose=1)\n",
    "grid.fit(X_train, Y_train)\n",
    "# Legjobb paraméter kiírása\n",
    "print('Legjobb paraméter:',grid.best_params_)\n",
    "\n",
    "# Legjobb paraméterrel dolgozás\n",
    "grid_predictions = RandomForestClassifier(n_estimators=150, criterion='entropy')\n",
    "grid_predictions.fit(X_train, Y_train)\n",
    "Y_pred = grid_predictions.predict(X_test)\n",
    "print('Predictek:', Y_pred)\n",
    "\n",
    "# Különböző pontosságok\n",
    "print('Pontosság accuracy_score', accuracy_score(Y_test, Y_pred))"
   ]
  },
  {
   "cell_type": "code",
   "execution_count": 46,
   "metadata": {},
   "outputs": [
    {
     "name": "stdout",
     "output_type": "stream",
     "text": [
      "Pontosság cross_val: 0.914\n",
      "Pontosság score: 0.915\n"
     ]
    }
   ],
   "source": [
    "# Szavazás alapú Ensemble használata (VotingClassifier)\n",
    "# Lehetne itt olyant is csinálni, hogy a korábban létrehozott modelleket tesszük be ide,\n",
    "# sőt ezt is kéri elv a feladat, de csak át copyztam a jegyzetemből és ott meg itt helyben\n",
    "# vannak itt létrehozva.\n",
    "\n",
    "# Ebben tároljuk a különböző modelleket. \n",
    "estimators = []\n",
    "# Logisztikus regresszió: solver: {'newton-cg', 'lbfgs', 'liblinear', 'sag', 'saga'}, default='lbfgs'\n",
    "model1 = LogisticRegression(solver='lbfgs', C=10, tol=0.01, random_state=69)\n",
    "# Tuple formátumban kell feltölteni a tömböt, mert így jó csak a VotingClassifier ('logistic', model1)\n",
    "estimators.append(('logistic', model1))\n",
    "# KNN feltöltése: model2\n",
    "model2 = KNeighborsClassifier(n_neighbors=7)\n",
    "# Tuple formátumban kell feltölteni a tömböt ('knn', model2)\n",
    "estimators.append(('knn', model2))\n",
    "# Random Forest feltöltése: model3\n",
    "model3 = RandomForestClassifier(n_estimators=150, criterion='entropy')\n",
    "# Tuple formátumban kell feltölteni a tömböt ('rfc', model3)\n",
    "estimators.append(('rfc', model3))\n",
    "\n",
    "# A VotingClassifier-be kell bele tenni a tuple formátumokat \n",
    "ensembleVC = VotingClassifier(estimators=estimators) # Csak tuple formátumot fogad el\n",
    "results = cross_val_score(ensembleVC, X, Y, cv=10)\n",
    "print('Pontosság cross_val:',results.mean())\n",
    "# Tradicionális\n",
    "ensembleVC.fit(X_train, Y_train)\n",
    "print('Pontosság score:',ensembleVC.score(X_test, Y_test))\n"
   ]
  },
  {
   "cell_type": "code",
   "execution_count": 59,
   "metadata": {},
   "outputs": [
    {
     "data": {
      "image/png": "[encoded data removed]",
      "text/plain": [
       "<Figure size 432x432 with 2 Axes>"
      ]
     },
     "metadata": {
      "needs_background": "light"
     },
     "output_type": "display_data"
    }
   ],
   "source": [
    "# Ensemble model prediktálás\n",
    "Y_pred = ensembleVC.predict(X_test)\n",
    "\n",
    "# Konfúziós mátrix kiírása\n",
    "# A normalize='all' annyit csinál, hogy a prediktálásokat arányosan írja ki,\n",
    "# ergó ha az összes cellában lévő értékek összege 1 lesz.\n",
    "cf_matrix = confusion_matrix(Y_test, Y_pred, normalize='all')\n",
    "plt.figure(figsize=(6,6))\n",
    "ax = sns.heatmap(cf_matrix, annot=True, cmap='Blues')"
   ]
  },
  {
   "cell_type": "code",
   "execution_count": 55,
   "metadata": {},
   "outputs": [
    {
     "data": {
      "image/png": "[encoded data removed]",
      "text/plain": [
       "<Figure size 432x288 with 2 Axes>"
      ]
     },
     "metadata": {
      "needs_background": "light"
     },
     "output_type": "display_data"
    }
   ],
   "source": [
    "# Korrelációk keresése\n",
    "# Ez egy korrelációs mátrix (Pearson's Correlation), amin észrevehető,\n",
    "# hogy az adathalmazunk szimmetrikus és valamely adatok\n",
    "# negatívan korrelállnak egymással (-1-hez közelít), néhány pozitívan (1-hez közelít)\n",
    "# de a nagyjuk nagyon enyhe korrelációt mutat ki. (0-hoz közeliek)\n",
    "# https://www.tutorialspoint.com/machine_learning_with_python/machine_learning_with_python_correlation_matrix_plot.htm\n",
    "correlations = file.corr()\n",
    "fig = plt.figure()\n",
    "ax = fig.add_subplot(111)\n",
    "cax = ax.matshow(correlations, vmin=-1, vmax=1)\n",
    "fig.colorbar(cax)\n",
    "ticks = np.arange(0,9,1)\n",
    "plt.show()"
   ]
  }
 ],
 "metadata": {
  "kernelspec": {
   "display_name": "Python 3 (ipykernel)",
   "language": "python",
   "name": "python3"
  },
  "language_info": {
   "codemirror_mode": {
    "name": "ipython",
    "version": 3
   },
   "file_extension": ".py",
   "mimetype": "text/x-python",
   "name": "python",
   "nbconvert_exporter": "python",
   "pygments_lexer": "ipython3",
   "version": "3.9.13"
  },
  "vscode": {
   "interpreter": {
    "hash": "f765b8aedd47f5bf561fe6bf9b2bb2295880d3c51bad6bf88cb0576b6eb7723a"
   }
  }
 },
 "nbformat": 4,
 "nbformat_minor": 2
}
